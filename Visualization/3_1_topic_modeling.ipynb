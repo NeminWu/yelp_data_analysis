{
 "cells": [
  {
   "cell_type": "markdown",
   "id": "358afc32",
   "metadata": {},
   "source": [
    "# 3. Topic Modeling"
   ]
  },
  {
   "cell_type": "code",
   "execution_count": 1,
   "id": "2b277cf7",
   "metadata": {},
   "outputs": [
    {
     "name": "stderr",
     "output_type": "stream",
     "text": [
      "/usr/local/lib/python3.10/dist-packages/pandas/core/arrays/masked.py:62: UserWarning: Pandas requires version '1.3.4' or newer of 'bottleneck' (version '1.3.2' currently installed).\n",
      "  from pandas.core import (\n"
     ]
    }
   ],
   "source": [
    "from nltk.corpus import stopwords\n",
    "import pandas as pd\n",
    "import numpy as np\n",
    "from nltk.corpus import stopwords\n",
    "from nltk.stem.wordnet import WordNetLemmatizer\n",
    "import string\n",
    "import gensim\n",
    "from gensim import corpora\n",
    "import nltk\n",
    "\n",
    "# Load and preprocess the dataset\n",
    "df = pd.read_csv('data/joined_review.csv').head(100000)"
   ]
  },
  {
   "cell_type": "code",
   "execution_count": 2,
   "id": "d030f05e",
   "metadata": {},
   "outputs": [
    {
     "name": "stderr",
     "output_type": "stream",
     "text": [
      "[nltk_data] Downloading package stopwords to /home/nemin/nltk_data...\n",
      "[nltk_data]   Package stopwords is already up-to-date!\n",
      "[nltk_data] Downloading package wordnet to /home/nemin/nltk_data...\n",
      "[nltk_data]   Package wordnet is already up-to-date!\n"
     ]
    }
   ],
   "source": [
    "nltk.download('stopwords')\n",
    "nltk.download('wordnet')\n",
    "\n",
    "def clean(doc):\n",
    "    stop = set(stopwords.words('english'))\n",
    "    exclude = set(string.punctuation) \n",
    "    lemma = WordNetLemmatizer()\n",
    "    stop_free = \" \".join([i for i in doc.lower().split() if i not in stop])\n",
    "    punc_free = ''.join(ch for ch in stop_free if ch not in exclude)\n",
    "    normalized = \" \".join(lemma.lemmatize(word) for word in punc_free.split())\n",
    "    return normalized\n",
    "\n",
    "doc_clean = [clean(doc).split() for doc in df['text']]\n"
   ]
  },
  {
   "cell_type": "code",
   "execution_count": 3,
   "id": "1ef89a0b",
   "metadata": {},
   "outputs": [],
   "source": [
    "# Creating the term dictionary of our corpus, where every unique term is assigned an index\n",
    "dictionary = corpora.Dictionary(doc_clean)\n",
    "\n",
    "# Converting list of documents (corpus) into Document Term Matrix using the dictionary\n",
    "doc_term_matrix = [dictionary.doc2bow(doc) for doc in doc_clean]"
   ]
  },
  {
   "cell_type": "code",
   "execution_count": 4,
   "id": "ed7070f3",
   "metadata": {},
   "outputs": [
    {
     "name": "stdout",
     "output_type": "stream",
     "text": [
      "6\n",
      "9\n",
      "12\n",
      "15\n",
      "18\n",
      "21\n",
      "24\n"
     ]
    }
   ],
   "source": [
    "from gensim.models.ldamodel import LdaModel\n",
    "from gensim.models.coherencemodel import CoherenceModel\n",
    "limit=25; start=6; step=3;\n",
    "\n",
    "def compute_coherence_values(dictionary, corpus, texts, limit, start=2, step=3):\n",
    "    coherence_values = []\n",
    "    model_list = []\n",
    "    for num_topics in range(start, limit, step):\n",
    "        print(num_topics)\n",
    "        model = LdaModel(corpus=corpus, num_topics=num_topics, id2word=dictionary, random_state=100, update_every=1, chunksize=100, passes=10, alpha='auto', per_word_topics=True)\n",
    "        model_list.append(model)\n",
    "        coherencemodel = CoherenceModel(model=model, texts=texts, dictionary=dictionary, coherence='c_v')\n",
    "        coherence_values.append(coherencemodel.get_coherence())\n",
    "\n",
    "    return model_list, coherence_values\n",
    "\n",
    "# Can take a long time to run\n",
    "model_list, coherence_values = compute_coherence_values(dictionary=dictionary, corpus=doc_term_matrix, texts=doc_clean, start=start, limit=limit, step=step)"
   ]
  },
  {
   "cell_type": "code",
   "execution_count": 5,
   "id": "19ff6f0d",
   "metadata": {},
   "outputs": [
    {
     "name": "stderr",
     "output_type": "stream",
     "text": [
      "/usr/local/lib/python3.10/dist-packages/matplotlib/projections/__init__.py:63: UserWarning: Unable to import Axes3D. This may be due to multiple versions of Matplotlib being installed (e.g. as a system package and as a pip package). As a result, the 3D projection is not available.\n",
      "  warnings.warn(\"Unable to import Axes3D. This may be due to multiple versions of \"\n"
     ]
    },
    {
     "data": {
      "image/png": "[encoded data removed]",
      "text/plain": [
       "<Figure size 432x288 with 1 Axes>"
      ]
     },
     "metadata": {
      "needs_background": "light"
     },
     "output_type": "display_data"
    },
    {
     "name": "stdout",
     "output_type": "stream",
     "text": [
      "Num Topics = 6  has Coherence Value of 0.4439\n",
      "Num Topics = 9  has Coherence Value of 0.433\n",
      "Num Topics = 12  has Coherence Value of 0.381\n",
      "Num Topics = 15  has Coherence Value of 0.337\n",
      "Num Topics = 18  has Coherence Value of 0.3412\n",
      "Num Topics = 21  has Coherence Value of 0.3476\n",
      "Num Topics = 24  has Coherence Value of 0.3156\n"
     ]
    }
   ],
   "source": [
    "# Show graph\n",
    "import matplotlib.pyplot as plt\n",
    "\n",
    "x = range(start, limit, step)\n",
    "plt.plot(x, coherence_values)\n",
    "plt.xlabel(\"Num Topics\")\n",
    "plt.ylabel(\"Coherence score\")\n",
    "plt.legend((\"coherence_values\"), loc='best')\n",
    "plt.show()\n",
    "\n",
    "# Print the coherence scores\n",
    "for m, cv in zip(x, coherence_values):\n",
    "    print(\"Num Topics =\", m, \" has Coherence Value of\", round(cv, 4))\n"
   ]
  },
  {
   "cell_type": "code",
   "execution_count": 6,
   "id": "49f3cb3e",
   "metadata": {},
   "outputs": [],
   "source": [
    "# Select the model and print the topics\n",
    "optimal_model = model_list[coherence_values.index(max(coherence_values))]\n",
    "# optimal_model = model_list[0]\n",
    "model_topics = optimal_model.show_topics(formatted=False)\n"
   ]
  },
  {
   "cell_type": "code",
   "execution_count": 7,
   "id": "b1792b8f",
   "metadata": {},
   "outputs": [
    {
     "name": "stderr",
     "output_type": "stream",
     "text": [
      "/usr/local/lib/python3.10/dist-packages/pandas/core/arrays/masked.py:62: UserWarning: Pandas requires version '1.3.4' or newer of 'bottleneck' (version '1.3.2' currently installed).\n",
      "  from pandas.core import (\n"
     ]
    },
    {
     "data": {
      "text/html": [
       "\n",
       "<link rel=\"stylesheet\" type=\"text/css\" href=\"https://cdn.jsdelivr.net/gh/bmabey/pyLDAvis@3.4.0/pyLDAvis/js/ldavis.v1.0.0.css\">\n",
       "\n",
       "\n",
       "<div id=\"ldavis_el22980514059294580033696518022\" style=\"background-color:white;\"></div>\n",
       "<script type=\"text/javascript\">\n",
       "\n",
       "var ldavis_el22980514059294580033696518022_data = {\"mdsDat\": {\"x\": [0.24026582620979375, 0.23727813471242717, 0.031588635932087064, -0.0021913810033114506, -0.16363015105523837, -0.3433110647957585], \"y\": [0.004935045446054904, 0.011232329059364742, -0.2248207897226562, 0.33703783286676686, -0.22309737172552171, 0.09471295407599145], \"topics\": [1, 2, 3, 4, 5, 6], \"cluster\": [1, 1, 1, 1, 1, 1], \"Freq\": [34.25631707801714, 34.10232539954294, 13.50299451512306, 7.936940712232321, 7.785969311167329, 2.4154529839171937]}, \"tinfo\": {\"Term\": [\"place\", \"great\", \"good\", \"food\", \"chicken\", \"delicious\", \"restaurant\", \"menu\", \"burger\", \"coffee\", \"sauce\", \"room\", \"really\", \"would\", \"pizza\", \"u\", \"ordered\", \"fresh\", \"nice\", \"best\", \"fry\", \"meal\", \"love\", \"salad\", \"time\", \"lunch\", \"sandwich\", \"ive\", \"flavor\", \"like\", \"place\", \"great\", \"nice\", \"love\", \"ive\", \"friendly\", \"price\", \"always\", \"bar\", \"lot\", \"beer\", \"awesome\", \"atmosphere\", \"selection\", \"super\", \"spot\", \"quality\", \"family\", \"fun\", \"local\", \"far\", \"enjoy\", \"fast\", \"town\", \"absolutely\", \"business\", \"quick\", \"use\", \"usually\", \"city\", \"best\", \"really\", \"worth\", \"recommend\", \"every\", \"pretty\", \"staff\", \"amazing\", \"area\", \"definitely\", \"little\", \"also\", \"food\", \"good\", \"service\", \"go\", \"well\", \"here\", \"like\", \"new\", \"drink\", \"get\", \"one\", \"make\", \"time\", \"u\", \"went\", \"could\", \"never\", \"said\", \"minute\", \"hour\", \"give\", \"star\", \"2\", \"me\", \"took\", \"last\", \"another\", \"review\", \"bad\", \"asked\", \"told\", \"3\", \"5\", \"wanted\", \"guy\", \"left\", \"4\", \"getting\", \"put\", \"ask\", \"10\", \"gave\", \"spicy\", \"customer\", \"would\", \"first\", \"know\", \"even\", \"still\", \"two\", \"order\", \"got\", \"time\", \"table\", \"back\", \"came\", \"one\", \"get\", \"take\", \"say\", \"wait\", \"experience\", \"it\", \"service\", \"like\", \"people\", \"go\", \"delicious\", \"menu\", \"pizza\", \"fresh\", \"meal\", \"salad\", \"lunch\", \"sandwich\", \"dinner\", \"roll\", \"bread\", \"shrimp\", \"tasty\", \"portion\", \"sushi\", \"taco\", \"egg\", \"potato\", \"appetizer\", \"plate\", \"fish\", \"dessert\", \"steak\", \"eating\", \"dining\", \"attentive\", \"crab\", \"chip\", \"brunch\", \"entree\", \"veggie\", \"cheese\", \"restaurant\", \"excellent\", \"eat\", \"flavor\", \"breakfast\", \"ordered\", \"dish\", \"good\", \"food\", \"try\", \"special\", \"room\", \"store\", \"hotel\", \"car\", \"stay\", \"regular\", \"sunday\", \"company\", \"floor\", \"thanks\", \"wedding\", \"bought\", \"bed\", \"product\", \"class\", \"bathroom\", \"park\", \"desk\", \"stayed\", \"helped\", \"sale\", \"massage\", \"office\", \"appointment\", \"color\", \"bike\", \"gift\", \"beyond\", \"purchase\", \"pool\", \"1\", \"unfortunately\", \"shop\", \"work\", \"comfortable\", \"job\", \"front\", \"clean\", \"book\", \"help\", \"day\", \"need\", \"helpful\", \"beautiful\", \"free\", \"someone\", \"chicken\", \"burger\", \"sauce\", \"fry\", \"fried\", \"meat\", \"rice\", \"pork\", \"tasted\", \"tea\", \"beef\", \"bean\", \"bbq\", \"thai\", \"onion\", \"perfectly\", \"employee\", \"ingredient\", \"bowl\", \"dry\", \"rib\", \"crispy\", \"noodle\", \"flavorful\", \"horrible\", \"heard\", \"garlic\", \"twice\", \"rather\", \"man\", \"hot\", \"taste\", \"side\", \"sweet\", \"cooked\", \"like\", \"ordered\", \"dish\", \"coffee\", \"cream\", \"ice\", \"cake\", \"chocolate\", \"hair\", \"donut\", \"pancake\", \"nail\", \"cut\", \"salon\", \"filled\", \"milk\", \"picture\", \"sugar\", \"fancy\", \"waffle\", \"bagel\", \"banana\", \"iced\", \"foot\", \"pedicure\", \"pastry\", \"bakery\", \"photo\", \"manicure\", \"cookie\", \"wax\", \"skin\", \"coconut\", \"truffle\", \"cup\", \"sweet\", \"flavor\", \"shop\", \"fruit\"], \"Freq\": [56455.0, 48085.0, 51138.0, 58177.0, 12622.0, 15337.0, 18190.0, 13898.0, 10327.0, 6922.0, 10053.0, 9840.0, 24797.0, 27568.0, 11015.0, 19998.0, 15392.0, 10068.0, 18797.0, 19496.0, 7804.0, 9371.0, 17458.0, 9299.0, 37938.0, 9166.0, 9128.0, 16513.0, 8237.0, 31970.0, 56454.56253161592, 48085.00036501767, 18796.72880851045, 17457.444897971935, 16512.799461147722, 15373.66350909001, 14975.944400611956, 14454.630089701433, 12282.538301848508, 10233.722796089072, 10075.984457153294, 7908.712098465466, 7318.414300403001, 6760.7498563880445, 6634.436197342741, 6133.850436177243, 5710.832293255796, 5222.406642302442, 5085.1207664884505, 4652.230936425507, 4590.949884375333, 4551.272716617591, 4318.737803978833, 4309.399205755018, 4291.001912796384, 4265.811871075224, 4256.388877708515, 4231.630990010518, 4155.831852901493, 4120.158577324998, 19424.61001141372, 24557.444568563693, 6448.796145612094, 10462.56086219209, 8003.215150082434, 10793.007287570648, 14884.461762098985, 11877.697770056451, 9020.445498950352, 11641.197133894038, 12671.89847431424, 17477.15519275168, 41308.98134920863, 35965.16572036127, 22381.987153303675, 17406.53639067008, 12270.877352858408, 8981.165709327746, 18624.443970070726, 9267.49001472405, 10020.170005062473, 13167.524430473948, 13221.64504236014, 9944.496824523498, 10547.08238575294, 19997.443787918633, 13436.900239637027, 13061.028069349135, 12312.26101099634, 9685.16577736935, 9569.20122584956, 8811.590136298923, 8700.432637443762, 8585.692436242558, 8169.256273330606, 7829.9592467667735, 7702.45371583013, 7472.024230835937, 7370.13633046177, 7311.704422602119, 7196.5986050644, 6963.080801939013, 6933.249717521539, 6820.461721793834, 6662.596524853899, 6156.618556866545, 5184.997364473487, 5005.324799600468, 4978.180530847644, 4930.208374416606, 4923.634879775092, 4707.993435680597, 4346.381569086116, 4166.474266703741, 4136.427443316336, 8575.398605391603, 26027.75921029934, 12861.181166554168, 11286.815267649401, 16772.820846706403, 8908.179555121966, 10013.506135151129, 14222.190090183018, 14731.793401682682, 27390.746515167117, 10631.052392635018, 19525.059037344934, 10947.23199642488, 19555.81471734782, 18831.823443166035, 8589.502276682188, 8605.171427621503, 8858.19313132197, 8920.092905911575, 9698.826993786184, 10826.603092381041, 9696.384203805721, 8732.928583658104, 8729.666745533485, 15336.627822866498, 13897.9992549555, 11014.653182770335, 10067.488573122948, 9370.196365840484, 9298.425686434799, 9166.015727100443, 9127.35305408062, 8563.729917396717, 6130.395426687807, 5926.737021562924, 5473.115608881246, 5217.568513078366, 4968.9896586372915, 4785.195522405525, 4650.023943569752, 4472.52536365901, 4458.138864004539, 4221.19224511955, 4138.049778292356, 4127.9939393402865, 4031.7080359707606, 3888.9654070611914, 3707.688156011828, 3399.177812015509, 3282.345593290049, 3250.292084229546, 3221.8798340055955, 2926.577119159874, 2848.747928012644, 2853.950203974149, 8864.545841150228, 15018.665785976107, 6662.295378774573, 8135.392702632058, 7099.945202448728, 6054.776534151214, 10926.425123420617, 6957.614810445363, 15172.555528178256, 13514.290613741327, 4945.628898612723, 4221.804080917079, 9839.880123498511, 6750.306860542081, 5236.337322235197, 4388.364365247463, 3766.852059632411, 2814.94142345482, 2288.5226092588737, 2032.812898094624, 2020.4246679663552, 1947.8052080436294, 1795.8846069208348, 1794.449421086469, 1742.7915744509933, 1741.5531051742341, 1697.118155999566, 1668.4276061547682, 1616.123601635766, 1512.3777260025759, 1498.787874104592, 1426.3304449528418, 1408.5984419629992, 1395.7265760222733, 1291.2831525157324, 1266.0960636406946, 1269.239106861553, 1235.1158588381816, 1179.4589276981974, 1187.5822799711457, 1095.653645497068, 1089.838224545329, 3515.4298261278022, 1330.1097145982403, 3435.9677350169645, 4585.4366241219395, 1710.108523522946, 2271.93533548787, 2409.631423251352, 3005.728971527843, 1579.4061908564663, 1976.601092628564, 3133.0218780625396, 2426.5950328943, 1845.8354805099873, 1736.2737908849829, 1851.9857716057438, 1660.2724176357337, 12621.271397827546, 10326.714200961696, 10052.443307431728, 7803.812942299504, 5950.125338135979, 5001.95271842051, 4710.222333962423, 4111.186710552481, 3776.6352117254737, 3753.8553242839366, 3607.612086632659, 3325.665001046337, 3128.912697270265, 3001.7766579534477, 2677.0882697293646, 2684.2246722996133, 2587.9283485797423, 2507.28399213737, 2466.900027298221, 2428.6578700271593, 2199.893543559493, 2200.0730235636233, 2094.560565496319, 2017.3155333427037, 1996.6714772285147, 1946.5585780301308, 1903.6501334336365, 1867.9669638906387, 1839.9017662522804, 1814.7662760497656, 5331.874365712397, 4556.3472441054355, 4613.475093239694, 3261.242668135185, 2256.6024774961406, 3649.5101609803373, 2896.768131927816, 2641.02512694454, 6921.610556260228, 4519.322619513831, 3942.3978595150506, 3831.1120340227953, 3289.430125878631, 2634.1679550539484, 2337.114533339796, 2322.1156460087054, 2222.9780652101367, 2229.6044457416438, 1437.4561666189152, 1241.848398896153, 1174.2488632046227, 1116.9306357228675, 1034.3896274562871, 1002.467262326004, 995.8921364256709, 993.5654632441732, 975.8215525039788, 939.2652782979015, 943.7341199500795, 924.3097510690292, 910.5573620143897, 868.7700652696989, 778.7061091718194, 680.5168287605173, 681.6397656974065, 664.3200064674601, 669.6640643070282, 657.170673199686, 657.9472077751317, 1054.8005732286308, 1244.798440829951, 1136.6589439687066, 873.4157563318886, 729.7854476383782], \"Total\": [56455.0, 48085.0, 51138.0, 58177.0, 12622.0, 15337.0, 18190.0, 13898.0, 10327.0, 6922.0, 10053.0, 9840.0, 24797.0, 27568.0, 11015.0, 19998.0, 15392.0, 10068.0, 18797.0, 19496.0, 7804.0, 9371.0, 17458.0, 9299.0, 37938.0, 9166.0, 9128.0, 16513.0, 8237.0, 31970.0, 56455.40698519579, 48085.84453451872, 18797.573810264796, 17458.289254841988, 16513.644998012325, 15374.507713783662, 14976.789508782695, 14455.473531919024, 12283.382136547902, 10234.56760590584, 10076.827279660742, 7909.556640647346, 7319.257943767334, 6761.593811125773, 6635.281163955155, 6134.694689850663, 5711.676929877141, 5223.251349210916, 5085.964501083068, 4653.075101380044, 4591.796183525156, 4552.117722441206, 4319.582646844526, 4310.243131839505, 4291.84942986084, 4266.6583836384, 4257.23384916786, 4232.4800223760985, 4156.676886559787, 4121.0024725491185, 19496.868904583644, 24797.466497818747, 6495.336099781104, 10731.42794905741, 8186.8387612532215, 11484.197669025321, 16460.9360424918, 13008.496915481917, 9644.536265636905, 13035.527349096497, 14687.590834183049, 21369.7496873315, 58177.32271170608, 51138.39604828748, 33405.53065547733, 26136.872744851415, 16261.612150920342, 10294.960499217914, 31970.835776215434, 11445.71314996762, 14210.40627541206, 32000.01798687294, 32778.13013889422, 14569.252556172481, 37938.498580038744, 19998.286199380134, 13437.743884933678, 13061.87213696319, 12313.103956191771, 9686.007538901475, 9570.04209236687, 8812.432959896478, 8701.27571159307, 8586.5352592096, 8170.09936303922, 7830.803156318325, 7703.296409831564, 7472.868099935552, 7370.978526278686, 7312.547445096533, 7197.441280633265, 6963.922239177465, 6934.0907786288235, 6821.305893743259, 6663.440003323297, 6157.462100577531, 5185.841664341603, 5006.1675331708075, 4979.024927791433, 4931.053475575034, 4924.479360467165, 4708.836315506601, 4347.223467857796, 4167.317798818843, 4137.275674202847, 8635.57870745984, 27568.557491891857, 13333.927169084332, 11662.484051597647, 17761.85951679435, 9315.533531661165, 11189.505380732977, 16951.80708274203, 17792.088254570368, 37938.498580038744, 12254.751194813167, 27564.97226724368, 13516.789414561885, 32778.13013889422, 32000.01798687294, 9566.875774923803, 9761.401180265168, 11292.164649827291, 12679.763024678845, 19342.836763301842, 33405.53065547733, 31970.835776215434, 12862.965376094782, 26136.872744851415, 15337.474961146461, 13898.846543480615, 11015.49861882933, 10068.33622015171, 9371.043535510931, 9299.271017438006, 9166.863732017688, 9128.200290339722, 8564.577732791835, 6131.241945245223, 5927.583465463997, 5473.960473968555, 5218.4152489702665, 4969.836841706794, 4786.040844283456, 4650.869365608123, 4473.371819324774, 4458.985622860833, 4222.038145091594, 4138.896259416449, 4128.8395393270175, 4032.554626407772, 3889.811294024826, 3708.537312970265, 3400.0254464964737, 3283.1954935606313, 3251.138665411217, 3222.7287869018246, 2927.4235642557023, 2849.5939174979453, 2854.7981458054524, 9848.828083345588, 18190.55500844985, 7437.063393718828, 9618.64084347234, 8237.294032971082, 6978.24025873753, 15392.964348704065, 9599.31331468176, 51138.39604828748, 58177.32271170608, 13539.509331287853, 7014.953869055009, 9840.72644568794, 6751.153218199583, 5237.181808364404, 4389.208669794941, 3767.699843204803, 2815.798985484288, 2289.3812723592764, 2033.6603218167336, 2021.2714088576688, 1948.6565137267103, 1796.7304338422368, 1795.3000529467672, 1743.637254893847, 1742.4021887712972, 1697.9637799711445, 1669.2742966486032, 1616.9729740764958, 1513.2207343206933, 1499.6340583676854, 1427.1827953342636, 1409.4435027346556, 1396.5718256324908, 1292.1291575052178, 1266.9408844928996, 1270.0898844114258, 1235.9608255233259, 1180.3061935460285, 1188.4368696404154, 1096.4997001558108, 1090.6832179910114, 3550.0434257264324, 1382.9677173585605, 4765.230400050398, 7995.011752858736, 2183.3851227106993, 3604.9905353318068, 4177.879920319896, 6683.499030459689, 1969.4787746131835, 3495.680613646474, 12820.385685050114, 7649.166704549569, 3857.610976032656, 3242.850902476712, 5130.202038304738, 3235.024577921382, 12622.113910088949, 10327.556637981897, 10053.286471465559, 7804.656549691809, 5950.968041687526, 5002.795990450063, 4711.063979129165, 4112.028543658762, 3777.479548952916, 3754.7026969578037, 3608.454422473355, 3326.508725456463, 3129.7556932043617, 3002.6194308632007, 2677.9317902141875, 2685.0715465689404, 2588.7827329027045, 2508.130890997924, 2467.744767101924, 2429.503585059455, 2200.7360411525597, 2200.916321729982, 2095.401259985095, 2018.1589016377368, 1997.5254339941207, 1947.412254101896, 1904.4938554612968, 1868.8166137341525, 1840.753468986737, 1815.6201637826555, 7106.67208012039, 6849.610093638704, 7914.090601740286, 6144.039138174532, 3431.315005532061, 31970.835776215434, 15392.964348704065, 9599.31331468176, 6922.467667934072, 4520.179710011789, 3943.25473874026, 3831.9700593078974, 3290.287022244228, 2635.023736625369, 2337.9691524218492, 2322.9733092357956, 2223.8330679633295, 2230.466263621054, 1438.310250092063, 1242.7101580146361, 1175.1057060446844, 1117.7921775894777, 1035.2494605141571, 1003.3293378044663, 996.7510821231211, 994.4224974280075, 976.6790718240175, 940.1227978494134, 944.5987669382652, 925.1643727182183, 911.4149091421731, 869.6270420766883, 779.5686979713387, 681.3717036363267, 682.4986401924274, 665.1757473570523, 670.5272659624508, 658.029909149002, 658.814520296698, 1823.3134784340255, 6144.039138174532, 8237.294032971082, 4765.230400050398, 1215.6536785783574], \"Category\": [\"Default\", \"Default\", \"Default\", \"Default\", \"Default\", \"Default\", \"Default\", \"Default\", \"Default\", \"Default\", \"Default\", \"Default\", \"Default\", \"Default\", \"Default\", \"Default\", \"Default\", \"Default\", \"Default\", \"Default\", \"Default\", \"Default\", \"Default\", \"Default\", \"Default\", \"Default\", \"Default\", \"Default\", \"Default\", \"Default\", \"Topic1\", \"Topic1\", \"Topic1\", \"Topic1\", \"Topic1\", \"Topic1\", \"Topic1\", \"Topic1\", \"Topic1\", \"Topic1\", \"Topic1\", \"Topic1\", \"Topic1\", \"Topic1\", \"Topic1\", \"Topic1\", \"Topic1\", \"Topic1\", \"Topic1\", \"Topic1\", \"Topic1\", \"Topic1\", \"Topic1\", \"Topic1\", \"Topic1\", \"Topic1\", \"Topic1\", \"Topic1\", \"Topic1\", \"Topic1\", \"Topic1\", \"Topic1\", \"Topic1\", \"Topic1\", \"Topic1\", \"Topic1\", \"Topic1\", \"Topic1\", \"Topic1\", \"Topic1\", \"Topic1\", \"Topic1\", \"Topic1\", \"Topic1\", \"Topic1\", \"Topic1\", \"Topic1\", \"Topic1\", \"Topic1\", \"Topic1\", \"Topic1\", \"Topic1\", \"Topic1\", \"Topic1\", \"Topic1\", \"Topic2\", \"Topic2\", \"Topic2\", \"Topic2\", \"Topic2\", \"Topic2\", \"Topic2\", \"Topic2\", \"Topic2\", \"Topic2\", \"Topic2\", \"Topic2\", \"Topic2\", \"Topic2\", \"Topic2\", \"Topic2\", \"Topic2\", \"Topic2\", \"Topic2\", \"Topic2\", \"Topic2\", \"Topic2\", \"Topic2\", \"Topic2\", \"Topic2\", \"Topic2\", \"Topic2\", \"Topic2\", \"Topic2\", \"Topic2\", \"Topic2\", \"Topic2\", \"Topic2\", \"Topic2\", \"Topic2\", \"Topic2\", \"Topic2\", \"Topic2\", \"Topic2\", \"Topic2\", \"Topic2\", \"Topic2\", \"Topic2\", \"Topic2\", \"Topic2\", \"Topic2\", \"Topic2\", \"Topic2\", \"Topic2\", \"Topic2\", \"Topic2\", \"Topic2\", \"Topic2\", \"Topic2\", \"Topic3\", \"Topic3\", \"Topic3\", \"Topic3\", \"Topic3\", \"Topic3\", \"Topic3\", \"Topic3\", \"Topic3\", \"Topic3\", \"Topic3\", \"Topic3\", \"Topic3\", \"Topic3\", \"Topic3\", \"Topic3\", \"Topic3\", \"Topic3\", \"Topic3\", \"Topic3\", \"Topic3\", \"Topic3\", \"Topic3\", \"Topic3\", \"Topic3\", \"Topic3\", \"Topic3\", \"Topic3\", \"Topic3\", \"Topic3\", \"Topic3\", \"Topic3\", \"Topic3\", \"Topic3\", \"Topic3\", \"Topic3\", \"Topic3\", \"Topic3\", \"Topic3\", \"Topic3\", \"Topic3\", \"Topic3\", \"Topic3\", \"Topic4\", \"Topic4\", \"Topic4\", \"Topic4\", \"Topic4\", \"Topic4\", \"Topic4\", \"Topic4\", \"Topic4\", \"Topic4\", \"Topic4\", \"Topic4\", \"Topic4\", \"Topic4\", \"Topic4\", \"Topic4\", \"Topic4\", \"Topic4\", \"Topic4\", \"Topic4\", \"Topic4\", \"Topic4\", \"Topic4\", \"Topic4\", \"Topic4\", \"Topic4\", \"Topic4\", \"Topic4\", \"Topic4\", \"Topic4\", \"Topic4\", \"Topic4\", \"Topic4\", \"Topic4\", \"Topic4\", \"Topic4\", \"Topic4\", \"Topic4\", \"Topic4\", \"Topic4\", \"Topic4\", \"Topic4\", \"Topic4\", \"Topic4\", \"Topic4\", \"Topic4\", \"Topic5\", \"Topic5\", \"Topic5\", \"Topic5\", \"Topic5\", \"Topic5\", \"Topic5\", \"Topic5\", \"Topic5\", \"Topic5\", \"Topic5\", \"Topic5\", \"Topic5\", \"Topic5\", \"Topic5\", \"Topic5\", \"Topic5\", \"Topic5\", \"Topic5\", \"Topic5\", \"Topic5\", \"Topic5\", \"Topic5\", \"Topic5\", \"Topic5\", \"Topic5\", \"Topic5\", \"Topic5\", \"Topic5\", \"Topic5\", \"Topic5\", \"Topic5\", \"Topic5\", \"Topic5\", \"Topic5\", \"Topic5\", \"Topic5\", \"Topic5\", \"Topic6\", \"Topic6\", \"Topic6\", \"Topic6\", \"Topic6\", \"Topic6\", \"Topic6\", \"Topic6\", \"Topic6\", \"Topic6\", \"Topic6\", \"Topic6\", \"Topic6\", \"Topic6\", \"Topic6\", \"Topic6\", \"Topic6\", \"Topic6\", \"Topic6\", \"Topic6\", \"Topic6\", \"Topic6\", \"Topic6\", \"Topic6\", \"Topic6\", \"Topic6\", \"Topic6\", \"Topic6\", \"Topic6\", \"Topic6\", \"Topic6\", \"Topic6\", \"Topic6\", \"Topic6\", \"Topic6\", \"Topic6\"], \"logprob\": [30.0, 29.0, 28.0, 27.0, 26.0, 25.0, 24.0, 23.0, 22.0, 21.0, 20.0, 19.0, 18.0, 17.0, 16.0, 15.0, 14.0, 13.0, 12.0, 11.0, 10.0, 9.0, 8.0, 7.0, 6.0, 5.0, 4.0, 3.0, 2.0, 1.0, -3.474, -3.6344, -4.5737, -4.6476, -4.7033, -4.7747, -4.801, -4.8364, -4.9992, -5.1817, -5.1972, -5.4394, -5.517, -5.5963, -5.6151, -5.6936, -5.765, -5.8544, -5.8811, -5.9701, -5.9833, -5.992, -6.0444, -6.0466, -6.0509, -6.0568, -6.059, -6.0648, -6.0829, -6.0915, -4.5409, -4.3064, -5.6435, -5.1596, -5.4276, -5.1285, -4.8071, -5.0327, -5.3079, -5.0529, -4.968, -4.6465, -3.7863, -3.9249, -4.3991, -4.6506, -5.0002, -5.3123, -4.5829, -5.2809, -5.2028, -4.9297, -4.9255, -5.2104, -5.1516, -4.5073, -4.9049, -4.9333, -4.9923, -5.2323, -5.2443, -5.3268, -5.3395, -5.3528, -5.4025, -5.4449, -5.4614, -5.4917, -5.5055, -5.5134, -5.5293, -5.5623, -5.5666, -5.583, -5.6064, -5.6854, -5.8571, -5.8924, -5.8978, -5.9075, -5.9089, -5.9536, -6.0336, -6.0758, -6.0831, -5.354, -4.2437, -4.9487, -5.0793, -4.6831, -5.3159, -5.199, -4.8481, -4.8129, -4.1927, -5.1391, -4.5312, -5.1098, -4.5296, -4.5674, -5.3524, -5.3505, -5.3216, -5.3146, -5.2309, -5.1209, -5.2311, -5.3358, -5.3362, -3.8462, -3.9447, -4.1772, -4.2671, -4.3389, -4.3466, -4.3609, -4.3652, -4.4289, -4.7632, -4.797, -4.8766, -4.9244, -4.9732, -5.0109, -5.0396, -5.0785, -5.0817, -5.1363, -5.1562, -5.1587, -5.1823, -5.2183, -5.266, -5.3529, -5.3879, -5.3977, -5.4065, -5.5026, -5.5296, -5.5277, -4.3944, -3.8672, -4.68, -4.4802, -4.6164, -4.7756, -4.1853, -4.6366, -3.857, -3.9727, -4.9779, -5.1362, -3.7586, -4.1355, -4.3894, -4.5661, -4.7188, -5.0101, -5.2172, -5.3356, -5.3418, -5.3784, -5.4596, -5.4604, -5.4896, -5.4903, -5.5161, -5.5332, -5.565, -5.6314, -5.6404, -5.69, -5.7025, -5.7116, -5.7894, -5.8091, -5.8066, -5.8339, -5.88, -5.8731, -5.9537, -5.959, -4.7879, -5.7598, -4.8108, -4.5222, -5.5085, -5.2244, -5.1656, -4.9445, -5.588, -5.3637, -4.9031, -5.1586, -5.4321, -5.4933, -5.4288, -5.5381, -3.4905, -3.6911, -3.718, -3.9712, -4.2424, -4.416, -4.4761, -4.6121, -4.697, -4.7031, -4.7428, -4.8242, -4.8852, -4.9267, -5.0411, -5.0385, -5.075, -5.1067, -5.1229, -5.1385, -5.2374, -5.2374, -5.2865, -5.3241, -5.3344, -5.3598, -5.3821, -5.401, -5.4161, -5.4299, -4.3522, -4.5093, -4.4969, -4.8437, -5.212, -4.7313, -4.9623, -5.0547, -2.9208, -3.3471, -3.4836, -3.5123, -3.6647, -3.8869, -4.0065, -4.0129, -4.0566, -4.0536, -4.4925, -4.6388, -4.6948, -4.7448, -4.8216, -4.853, -4.8595, -4.8619, -4.8799, -4.9181, -4.9133, -4.9341, -4.9491, -4.9961, -5.1055, -5.2403, -5.2387, -5.2644, -5.2564, -5.2752, -5.2741, -4.8021, -4.6364, -4.7273, -4.9908, -5.1704], \"loglift\": [30.0, 29.0, 28.0, 27.0, 26.0, 25.0, 24.0, 23.0, 22.0, 21.0, 20.0, 19.0, 18.0, 17.0, 16.0, 15.0, 14.0, 13.0, 12.0, 11.0, 10.0, 9.0, 8.0, 7.0, 6.0, 5.0, 4.0, 3.0, 2.0, 1.0, 1.0713, 1.0713, 1.0713, 1.0713, 1.0712, 1.0712, 1.0712, 1.0712, 1.0712, 1.0712, 1.0712, 1.0712, 1.0712, 1.0712, 1.0712, 1.0712, 1.0712, 1.0711, 1.0711, 1.0711, 1.0711, 1.0711, 1.0711, 1.0711, 1.0711, 1.0711, 1.0711, 1.0711, 1.0711, 1.0711, 1.0676, 1.0616, 1.0641, 1.0459, 1.0486, 1.0092, 0.9706, 0.9804, 1.0044, 0.9582, 0.9237, 0.8702, 0.7289, 0.7193, 0.6708, 0.6648, 0.7897, 0.9348, 0.5309, 0.8602, 0.7219, 0.1833, 0.1634, 0.6894, -0.2088, 1.0758, 1.0757, 1.0757, 1.0757, 1.0757, 1.0757, 1.0757, 1.0757, 1.0757, 1.0757, 1.0757, 1.0757, 1.0757, 1.0757, 1.0757, 1.0757, 1.0757, 1.0757, 1.0757, 1.0757, 1.0757, 1.0756, 1.0756, 1.0756, 1.0756, 1.0756, 1.0756, 1.0756, 1.0756, 1.0756, 1.0688, 1.0183, 1.0397, 1.0431, 1.0185, 1.0311, 0.9648, 0.9002, 0.8871, 0.75, 0.9337, 0.731, 0.865, 0.5593, 0.5456, 0.968, 0.9497, 0.833, 0.7241, 0.3855, -0.0509, -0.1173, 0.6886, -0.0208, 2.0022, 2.0022, 2.0022, 2.0022, 2.0022, 2.0022, 2.0022, 2.0022, 2.0022, 2.0021, 2.0021, 2.0021, 2.0021, 2.0021, 2.0021, 2.0021, 2.0021, 2.0021, 2.0021, 2.0021, 2.0021, 2.002, 2.002, 2.002, 2.002, 2.002, 2.002, 2.002, 2.002, 2.002, 2.002, 1.897, 1.8106, 1.8922, 1.8348, 1.8537, 1.8603, 1.6595, 1.6804, 0.7872, 0.5425, 0.9952, 1.4945, 2.5336, 2.5335, 2.5335, 2.5334, 2.5334, 2.5333, 2.5333, 2.5332, 2.5332, 2.5332, 2.5332, 2.5332, 2.5332, 2.5332, 2.5331, 2.5331, 2.5331, 2.5331, 2.5331, 2.533, 2.533, 2.533, 2.533, 2.533, 2.533, 2.533, 2.5329, 2.5329, 2.5329, 2.5329, 2.5238, 2.4947, 2.2066, 1.9777, 2.2893, 2.072, 1.9833, 1.7345, 2.3129, 1.9635, 1.1246, 1.3855, 1.7965, 1.9089, 1.5148, 1.8666, 2.5528, 2.5528, 2.5528, 2.5527, 2.5527, 2.5527, 2.5527, 2.5526, 2.5526, 2.5526, 2.5526, 2.5526, 2.5526, 2.5526, 2.5525, 2.5525, 2.5525, 2.5525, 2.5525, 2.5525, 2.5525, 2.5525, 2.5524, 2.5524, 2.5524, 2.5524, 2.5524, 2.5524, 2.5524, 2.5524, 2.2655, 2.1452, 2.0132, 1.9195, 2.1338, 0.3826, 0.8825, 1.2623, 3.7232, 3.7231, 3.7231, 3.7231, 3.723, 3.723, 3.7229, 3.7229, 3.7229, 3.7229, 3.7227, 3.7226, 3.7226, 3.7225, 3.7225, 3.7224, 3.7224, 3.7224, 3.7224, 3.7224, 3.7224, 3.7224, 3.7223, 3.7223, 3.7222, 3.722, 3.722, 3.722, 3.722, 3.722, 3.722, 3.176, 2.1268, 1.7427, 2.0266, 3.213]}, \"token.table\": {\"Topic\": [4, 6, 2, 2, 2, 2, 2, 1, 1, 2, 3, 4, 5, 1, 1, 3, 2, 3, 4, 1, 4, 2, 2, 1, 3, 1, 1, 2, 3, 2, 6, 6, 6, 1, 4, 5, 5, 1, 4, 4, 5, 1, 1, 3, 4, 4, 1, 4, 4, 5, 3, 3, 4, 3, 5, 1, 6, 2, 3, 4, 3, 5, 5, 3, 6, 1, 4, 1, 4, 6, 6, 4, 1, 4, 4, 3, 5, 6, 2, 3, 6, 5, 2, 5, 6, 2, 4, 6, 1, 2, 4, 1, 3, 3, 4, 3, 3, 3, 3, 5, 6, 1, 2, 5, 2, 3, 3, 3, 5, 1, 3, 1, 2, 1, 2, 3, 4, 1, 2, 1, 6, 1, 1, 6, 1, 2, 3, 3, 6, 5, 4, 1, 2, 3, 6, 1, 4, 3, 5, 1, 2, 4, 3, 6, 5, 1, 5, 2, 1, 2, 2, 4, 2, 1, 2, 1, 3, 2, 3, 5, 1, 2, 6, 5, 2, 4, 4, 1, 4, 1, 2, 5, 1, 5, 4, 2, 6, 6, 5, 1, 2, 3, 5, 1, 1, 2, 4, 6, 1, 2, 2, 2, 1, 2, 5, 1, 3, 5, 1, 1, 1, 3, 1, 2, 5, 6, 4, 2, 3, 5, 3, 6, 2, 6, 1, 2, 4, 2, 1, 2, 4, 1, 5, 4, 1, 2, 5, 2, 3, 5, 2, 3, 5, 6, 4, 6, 6, 1, 2, 5, 6, 6, 3, 1, 3, 4, 5, 3, 3, 1, 5, 1, 4, 4, 2, 1, 1, 5, 1, 2, 3, 1, 4, 4, 2, 3, 2, 5, 5, 3, 4, 2, 3, 4, 6, 3, 5, 1, 2, 1, 1, 2, 3, 1, 4, 6, 3, 1, 2, 3, 5, 6, 1, 4, 1, 3, 2, 1, 1, 4, 2, 4, 4, 3, 1, 2, 4, 6, 4, 1, 3, 3, 5, 6, 2, 3, 3, 1, 2, 3, 5, 5, 3, 5, 5, 4, 1, 2, 2, 2, 1, 6, 1, 2, 3, 5, 5, 2, 3, 2, 4, 6, 1, 1, 3, 6, 2, 3, 2, 6, 4, 1, 2, 3, 2, 1, 2, 4, 1, 3, 1, 2], \"Freq\": [0.9901287332226756, 0.009577347632879365, 0.9997185633849186, 0.9998654406769893, 0.9998085566365735, 0.9997941509017736, 0.9999339675418286, 0.9998020830239452, 0.8178383114314524, 0.0002807707197224188, 0.17084898295109185, 0.0005147463194911012, 0.01048210686963697, 0.9999672420334085, 0.9130955003620388, 0.08686630033752347, 0.9998672460820232, 0.9997541128109416, 0.9992573572260428, 0.9352445521033393, 0.06459615919738142, 0.999822394440884, 0.9998675690012337, 0.9998281323356824, 0.9996358749995313, 0.9999296242921524, 0.28674072019265445, 0.7083264880771227, 0.004897519891954498, 0.9999386892346795, 0.9995751328745073, 0.9992789528770967, 0.9993047134482475, 0.9999688899568822, 0.9992366163840408, 0.9997585456251418, 0.9998470692553518, 0.46440618002196765, 0.5353314266388683, 0.9996345255344491, 0.9998740672819574, 0.9999179027646518, 0.9963138232638602, 0.0036929006576575515, 0.9996323997920499, 0.9992226084326589, 0.19751418751715247, 0.8017349668112693, 0.9992758575678571, 0.9996981992984636, 0.9999015677354193, 0.867697266860147, 0.13226830343714546, 0.9998553115917784, 0.9999461016771527, 0.9998456910351847, 0.9997468510210457, 0.809881671176041, 0.19005992630412435, 0.9997246269462515, 0.9001070914204253, 0.09991036412382387, 0.9999117493236962, 0.9997738603059659, 0.9996088419534445, 0.9997567406096463, 0.9994323907361787, 0.5501609236781916, 0.4497644102737677, 0.9984348596702329, 0.9999324420197384, 0.9991418840313566, 0.2166360826956468, 0.7831875294070952, 0.9996753037812413, 0.3421428805304219, 0.6577653163178554, 0.9992693902037859, 0.9999332303245626, 0.9996497641200816, 0.9997390125863411, 0.999583663530987, 0.17934381765270987, 0.24186735041237017, 0.5786169040477337, 0.9929849857766326, 0.006947999900477896, 0.999790956882577, 0.19897997319805502, 0.5566135196947553, 0.2443764233749535, 0.8930210254061449, 0.10693851983645443, 0.9999690326375323, 0.9991932873420206, 0.9998624627663715, 0.9996984003465238, 0.9999325439257066, 0.7248435145207753, 0.2751238461985294, 0.9995854725367761, 0.7051170674365149, 0.2948543425707582, 0.9997927210058253, 0.1541797873663651, 0.8457535874749698, 0.9998551145842902, 0.99991688164101, 0.9996976444207711, 0.9997544609982963, 0.999791578198459, 0.0556248065730853, 0.9443268022776921, 0.9775445972964197, 0.022352950306790555, 0.8957836779536626, 0.10407333634586234, 0.29645664455114756, 0.7034831788763597, 0.999760427150207, 0.9986750733240043, 0.9998266073899332, 0.999865115014074, 0.9994285409111239, 0.03539842343629759, 0.9645320419792867, 0.9997966645787464, 0.8619335392886449, 0.13803076537622383, 0.9994257629382918, 0.9993709855825906, 0.7100533004020149, 0.057651329481429175, 0.232289823080511, 0.9993661150541134, 0.6389611901295035, 0.36099942773637594, 0.9998672849095925, 0.999837330383772, 0.9999669769079366, 0.42318114300054516, 0.5768475987733676, 0.3989623101928025, 0.6004999720427748, 0.9999158771833675, 0.9998103602408427, 0.9997406893911048, 0.9996837777000793, 0.4114997687001858, 0.5884996692103508, 0.9997863589230471, 0.998893343478861, 0.9998533879817909, 0.6659939836692562, 0.3340108851285464, 0.7032876034289385, 0.2967046519345832, 0.8280084827151021, 0.16861427152764774, 0.0033722854305529544, 0.9999824369411228, 0.9998376995681548, 0.9996114886514532, 0.9997883067126503, 0.4342501983945604, 0.5655551002806627, 0.9991712376731766, 0.5213071023735537, 0.47853451565468924, 0.8723685730200001, 0.12753812898065475, 0.999736957544981, 0.24962457532864632, 0.7502808543699787, 0.9997743426889407, 0.9999508694252259, 0.9996818012470934, 0.9988056902226158, 0.9995491100556264, 0.3392470339433222, 0.5014259345041575, 0.11146245126208512, 0.04787301941961541, 0.9999609415115559, 0.01553402136598001, 0.329820560788397, 0.6302374382769033, 0.02413321176500466, 0.03215438480695103, 0.9678041101761499, 0.9998838330980899, 0.9997667810429692, 0.5825309081802373, 0.30327640065053596, 0.11416654933729953, 0.8627691323282182, 0.05671454286848215, 0.08047609804387262, 0.9997689481994982, 0.999944540313993, 0.9999261522808353, 0.9999057767145954, 0.6825332982361594, 0.3173807291878521, 0.9996584286763133, 0.9994544774396368, 0.9995905505023117, 0.9998974362779536, 0.9998886425501091, 0.9998408908835015, 0.9999390925370701, 0.9990590582285519, 0.9998911089045573, 0.9996253909633188, 0.3986055106089552, 0.2840832320607608, 0.3172894635119496, 0.9999103429812906, 0.8096481082986268, 0.06736146449749016, 0.12284075108102614, 0.9999694742379741, 0.9998085044651077, 0.9991261264412623, 0.4033787145262108, 0.5966173151773241, 0.9996520485631515, 0.8389666028277811, 0.14877469922174547, 0.012211087525337554, 0.10192968452708034, 0.7098048012382918, 0.18820286556720953, 0.9995810071377377, 0.9993982743731067, 0.9995447637096878, 0.9987414423290023, 0.3209990759730686, 0.6789258732072676, 0.9996009243886593, 0.9992704966569097, 0.999291301544813, 0.9999547347926242, 0.9999927910324711, 0.9997834544863478, 0.9993735871426812, 0.9997498695235596, 0.9998316158591423, 0.9997789580536479, 0.9398131511712317, 0.06016963656623006, 0.999947284510994, 0.9997691756966968, 0.9995442769790637, 0.9999026576350358, 0.9998814831641474, 0.9997101758532477, 0.9995906736021789, 0.990302779606945, 0.004879530737974523, 0.004758550637033005, 0.9749867445104556, 0.02497337738017797, 0.9997162491042837, 0.1743212342079179, 0.8256482549885584, 0.9999251361990273, 0.9996655477354867, 0.9997741531140569, 0.9997974398569957, 0.9999261796685489, 0.9998959799589844, 0.9998633207446451, 0.9996853348617415, 0.9990890351424673, 0.9998685074492731, 0.9998720347351873, 0.1184256213479997, 0.8815332800169008, 0.9999121788231651, 0.6700088147329024, 0.3241080080919102, 0.005867291917060534, 0.09548331597884287, 0.7210564257215475, 0.18320205461435127, 0.9998245376500028, 0.058882318064128296, 0.08579633898185217, 0.27229913182016413, 0.5828844060725833, 0.9992136547024766, 0.48654962646724337, 0.5131336594254282, 0.3980068938608876, 0.6018571296134196, 0.9996916632336585, 0.9998867604851123, 0.9042013140430688, 0.09574182148158267, 0.9999376629579403, 0.9998142518687986, 0.9995771912726659, 0.9997914310069302, 0.04369046588869107, 0.9562522607775431, 0.9998291820430806, 0.9987930826705897, 0.9998334605232079, 0.9998069164028626, 0.9997825249893764, 0.26643710484018374, 0.5307583377421131, 0.2026354279328215, 0.867500272424917, 0.1324384293242066, 0.9998130746018041, 0.10212320333048136, 0.8978897815852968, 0.3347635805035867, 0.6651473496617274, 0.9998730505495261, 0.9999204262308661, 0.9998128488419674, 0.9997937031723588, 0.9996630941768928, 0.2780025671745819, 0.721984291028631, 0.9998426933445715, 0.9998317071338564, 0.9997115866085786, 0.9987636576432298, 0.5751316247484217, 0.03737210763101341, 0.36530127340512314, 0.022157376065818225, 0.9995630316382297, 0.8949457245217416, 0.10500910987747616, 0.9999356845197978, 0.9616999611099182, 0.03760029923136522, 0.999886586026736, 0.9998371568013921, 0.999720419530668, 0.9992464697188778, 0.7844377295840687, 0.21545913254437107, 0.9999249527532639, 0.9982324259991079, 0.999593464980345, 0.7545992295299891, 0.11634762792524973, 0.1290769931369446, 0.9999446421259367, 0.2504061359614831, 0.17598473191698638, 0.5734825841075925, 0.9928662506344105, 0.007082004578877792, 0.055860739193660275, 0.9441190387873958], \"Term\": [\"1\", \"1\", \"10\", \"2\", \"3\", \"4\", \"5\", \"absolutely\", \"also\", \"also\", \"also\", \"also\", \"also\", \"always\", \"amazing\", \"amazing\", \"another\", \"appetizer\", \"appointment\", \"area\", \"area\", \"ask\", \"asked\", \"atmosphere\", \"attentive\", \"awesome\", \"back\", \"back\", \"back\", \"bad\", \"bagel\", \"bakery\", \"banana\", \"bar\", \"bathroom\", \"bbq\", \"bean\", \"beautiful\", \"beautiful\", \"bed\", \"beef\", \"beer\", \"best\", \"best\", \"beyond\", \"bike\", \"book\", \"book\", \"bought\", \"bowl\", \"bread\", \"breakfast\", \"breakfast\", \"brunch\", \"burger\", \"business\", \"cake\", \"came\", \"came\", \"car\", \"cheese\", \"cheese\", \"chicken\", \"chip\", \"chocolate\", \"city\", \"class\", \"clean\", \"clean\", \"coconut\", \"coffee\", \"color\", \"comfortable\", \"comfortable\", \"company\", \"cooked\", \"cooked\", \"cookie\", \"could\", \"crab\", \"cream\", \"crispy\", \"cup\", \"cup\", \"cup\", \"customer\", \"customer\", \"cut\", \"day\", \"day\", \"day\", \"definitely\", \"definitely\", \"delicious\", \"desk\", \"dessert\", \"dining\", \"dinner\", \"dish\", \"dish\", \"donut\", \"drink\", \"drink\", \"dry\", \"eat\", \"eat\", \"eating\", \"egg\", \"employee\", \"enjoy\", \"entree\", \"even\", \"even\", \"every\", \"every\", \"excellent\", \"excellent\", \"experience\", \"experience\", \"family\", \"fancy\", \"far\", \"fast\", \"filled\", \"first\", \"first\", \"fish\", \"flavor\", \"flavor\", \"flavorful\", \"floor\", \"food\", \"food\", \"food\", \"foot\", \"free\", \"free\", \"fresh\", \"fried\", \"friendly\", \"front\", \"front\", \"fruit\", \"fruit\", \"fry\", \"fun\", \"garlic\", \"gave\", \"get\", \"get\", \"getting\", \"gift\", \"give\", \"go\", \"go\", \"good\", \"good\", \"got\", \"got\", \"got\", \"great\", \"guy\", \"hair\", \"heard\", \"help\", \"help\", \"helped\", \"helpful\", \"helpful\", \"here\", \"here\", \"horrible\", \"hot\", \"hot\", \"hotel\", \"hour\", \"ice\", \"iced\", \"ingredient\", \"it\", \"it\", \"it\", \"it\", \"ive\", \"job\", \"job\", \"job\", \"job\", \"know\", \"know\", \"last\", \"left\", \"like\", \"like\", \"like\", \"little\", \"little\", \"little\", \"local\", \"lot\", \"love\", \"lunch\", \"make\", \"make\", \"man\", \"manicure\", \"massage\", \"me\", \"meal\", \"meat\", \"menu\", \"milk\", \"minute\", \"nail\", \"need\", \"need\", \"need\", \"never\", \"new\", \"new\", \"new\", \"nice\", \"noodle\", \"office\", \"one\", \"one\", \"onion\", \"order\", \"order\", \"order\", \"ordered\", \"ordered\", \"ordered\", \"pancake\", \"park\", \"pastry\", \"pedicure\", \"people\", \"people\", \"perfectly\", \"photo\", \"picture\", \"pizza\", \"place\", \"plate\", \"pool\", \"pork\", \"portion\", \"potato\", \"pretty\", \"pretty\", \"price\", \"product\", \"purchase\", \"put\", \"quality\", \"quick\", \"rather\", \"really\", \"really\", \"really\", \"recommend\", \"recommend\", \"regular\", \"restaurant\", \"restaurant\", \"review\", \"rib\", \"rice\", \"roll\", \"room\", \"said\", \"salad\", \"sale\", \"salon\", \"sandwich\", \"sauce\", \"say\", \"say\", \"selection\", \"service\", \"service\", \"service\", \"shop\", \"shop\", \"shop\", \"shrimp\", \"side\", \"side\", \"side\", \"side\", \"skin\", \"someone\", \"someone\", \"special\", \"special\", \"spicy\", \"spot\", \"staff\", \"staff\", \"star\", \"stay\", \"stayed\", \"steak\", \"still\", \"still\", \"store\", \"sugar\", \"sunday\", \"super\", \"sushi\", \"sweet\", \"sweet\", \"sweet\", \"table\", \"table\", \"taco\", \"take\", \"take\", \"taste\", \"taste\", \"tasted\", \"tasty\", \"tea\", \"thai\", \"thanks\", \"time\", \"time\", \"told\", \"took\", \"town\", \"truffle\", \"try\", \"try\", \"try\", \"try\", \"twice\", \"two\", \"two\", \"u\", \"unfortunately\", \"unfortunately\", \"use\", \"usually\", \"veggie\", \"waffle\", \"wait\", \"wait\", \"wanted\", \"wax\", \"wedding\", \"well\", \"well\", \"well\", \"went\", \"work\", \"work\", \"work\", \"worth\", \"worth\", \"would\", \"would\"]}, \"R\": 30, \"lambda.step\": 0.01, \"plot.opts\": {\"xlab\": \"PC1\", \"ylab\": \"PC2\"}, \"topic.order\": [5, 2, 6, 3, 1, 4]};\n",
       "\n",
       "function LDAvis_load_lib(url, callback){\n",
       "  var s = document.createElement('script');\n",
       "  s.src = url;\n",
       "  s.async = true;\n",
       "  s.onreadystatechange = s.onload = callback;\n",
       "  s.onerror = function(){console.warn(\"failed to load library \" + url);};\n",
       "  document.getElementsByTagName(\"head\")[0].appendChild(s);\n",
       "}\n",
       "\n",
       "if(typeof(LDAvis) !== \"undefined\"){\n",
       "   // already loaded: just create the visualization\n",
       "   !function(LDAvis){\n",
       "       new LDAvis(\"#\" + \"ldavis_el22980514059294580033696518022\", ldavis_el22980514059294580033696518022_data);\n",
       "   }(LDAvis);\n",
       "}else if(typeof define === \"function\" && define.amd){\n",
       "   // require.js is available: use it to load d3/LDAvis\n",
       "   require.config({paths: {d3: \"https://d3js.org/d3.v5\"}});\n",
       "   require([\"d3\"], function(d3){\n",
       "      window.d3 = d3;\n",
       "      LDAvis_load_lib(\"https://cdn.jsdelivr.net/gh/bmabey/pyLDAvis@3.4.0/pyLDAvis/js/ldavis.v3.0.0.js\", function(){\n",
       "        new LDAvis(\"#\" + \"ldavis_el22980514059294580033696518022\", ldavis_el22980514059294580033696518022_data);\n",
       "      });\n",
       "    });\n",
       "}else{\n",
       "    // require.js not available: dynamically load d3 & LDAvis\n",
       "    LDAvis_load_lib(\"https://d3js.org/d3.v5.js\", function(){\n",
       "         LDAvis_load_lib(\"https://cdn.jsdelivr.net/gh/bmabey/pyLDAvis@3.4.0/pyLDAvis/js/ldavis.v3.0.0.js\", function(){\n",
       "                 new LDAvis(\"#\" + \"ldavis_el22980514059294580033696518022\", ldavis_el22980514059294580033696518022_data);\n",
       "            })\n",
       "         });\n",
       "}\n",
       "</script>"
      ],
      "text/plain": [
       "PreparedData(topic_coordinates=              x         y  topics  cluster       Freq\n",
       "topic                                                \n",
       "4      0.240266  0.004935       1        1  34.256317\n",
       "1      0.237278  0.011232       2        1  34.102325\n",
       "5      0.031589 -0.224821       3        1  13.502995\n",
       "2     -0.002191  0.337038       4        1   7.936941\n",
       "0     -0.163630 -0.223097       5        1   7.785969\n",
       "3     -0.343311  0.094713       6        1   2.415453, topic_info=         Term          Freq         Total Category  logprob  loglift\n",
       "139     place  56455.000000  56455.000000  Default  30.0000  30.0000\n",
       "184     great  48085.000000  48085.000000  Default  29.0000  29.0000\n",
       "14       good  51138.000000  51138.000000  Default  28.0000  28.0000\n",
       "12       food  58177.000000  58177.000000  Default  27.0000  27.0000\n",
       "118   chicken  12622.000000  12622.000000  Default  26.0000  26.0000\n",
       "...       ...           ...           ...      ...      ...      ...\n",
       "2823      cup   1054.800573   1823.313478   Topic6  -4.8021   3.1760\n",
       "535     sweet   1244.798441   6144.039138   Topic6  -4.6364   2.1268\n",
       "606    flavor   1136.658944   8237.294033   Topic6  -4.7273   1.7427\n",
       "1387     shop    873.415756   4765.230400   Topic6  -4.9908   2.0266\n",
       "3264    fruit    729.785448   1215.653679   Topic6  -5.1704   3.2130\n",
       "\n",
       "[302 rows x 6 columns], token_table=      Topic      Freq   Term\n",
       "term                        \n",
       "1552      4  0.990129      1\n",
       "1552      6  0.009577      1\n",
       "146       2  0.999719     10\n",
       "0         2  0.999865      2\n",
       "210       2  0.999809      3\n",
       "...     ...       ...    ...\n",
       "108       4  0.573483   work\n",
       "707       1  0.992866  worth\n",
       "707       3  0.007082  worth\n",
       "209       1  0.055861  would\n",
       "209       2  0.944119  would\n",
       "\n",
       "[362 rows x 3 columns], R=30, lambda_step=0.01, plot_opts={'xlab': 'PC1', 'ylab': 'PC2'}, topic_order=[5, 2, 6, 3, 1, 4])"
      ]
     },
     "execution_count": 7,
     "metadata": {},
     "output_type": "execute_result"
    }
   ],
   "source": [
    "import pyLDAvis\n",
    "import pyLDAvis.gensim_models as gensimvis\n",
    "\n",
    "pyLDAvis.enable_notebook()\n",
    "vis = gensimvis.prepare(optimal_model, doc_term_matrix, dictionary)\n",
    "vis\n"
   ]
  },
  {
   "cell_type": "code",
   "execution_count": null,
   "id": "ff7b2ac9",
   "metadata": {},
   "outputs": [],
   "source": []
  }
 ],
 "metadata": {
  "kernelspec": {
   "display_name": "Python 3 (ipykernel)",
   "language": "python",
   "name": "python3"
  },
  "language_info": {
   "codemirror_mode": {
    "name": "ipython",
    "version": 3
   },
   "file_extension": ".py",
   "mimetype": "text/x-python",
   "name": "python",
   "nbconvert_exporter": "python",
   "pygments_lexer": "ipython3",
   "version": "3.10.12"
  }
 },
 "nbformat": 4,
 "nbformat_minor": 5
}
